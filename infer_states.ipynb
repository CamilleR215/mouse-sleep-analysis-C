{
 "cells": [
  {
   "cell_type": "code",
   "execution_count": 1,
   "id": "5b2e30e2-1064-43e3-9e25-7ae3615c990b",
   "metadata": {
    "tags": []
   },
   "outputs": [],
   "source": [
    "BASE_DIR=\"/teamspace/studios/this_studio/mouse-sleep-analysis/sample_data/mcRBManalysisMay/\"\n",
    "modelName=\"ws_fac11_cov11_mean10.mat\""
   ]
  },
  {
   "cell_type": "code",
   "execution_count": 2,
   "id": "93214221-9e89-4e27-814a-83e4f7b1eff7",
   "metadata": {
    "tags": []
   },
   "outputs": [
    {
     "name": "stdout",
     "output_type": "stream",
     "text": [
      "Matplotlib created a temporary cache directory at /tmp/matplotlib-ne6ever7 because the default path (/teamspace/studios/this_studio/.config/matplotlib) is not a writable directory; it is highly recommended to set the MPLCONFIGDIR environment variable to a writable directory, in particular to speed up the import of Matplotlib and to better support multiprocessing.\n",
      "Initialization...\n",
      "finalModel: .mat\n",
      "Loading data...\n",
      "Analysing experiment :  /teamspace/studios/this_studio/mouse-sleep-analysis/sample_data/mcRBManalysisMay\n",
      "Computing latent states...\n",
      "logisticArg_c min :  2.2596917\n",
      "logisticArg_c max :  2.2906444\n",
      "logisticArg_c mean :  2.2711306\n",
      "True\n",
      "logisticArg_m min :  -31.077269\n",
      "logisticArg_m max :  33.779167\n",
      "logisticArg_m mean :  0.07883694\n",
      "True\n",
      "/teamspace/studios/this_studio/mouse-sleep-analysis/infer_states.py:43: DeprecationWarning: Conversion of an array with ndim > 0 to a scalar is deprecated, and will error in future. Ensure you extract a single element from your array before performing this operation. (Deprecated NumPy 1.25.)\n",
      "  if not os.path.isdir('epoch%d' % self.epochID):\n",
      "/teamspace/studios/this_studio/mouse-sleep-analysis/infer_states.py:46: DeprecationWarning: Conversion of an array with ndim > 0 to a scalar is deprecated, and will error in future. Ensure you extract a single element from your array before performing this operation. (Deprecated NumPy 1.25.)\n",
      "  os.chdir('epoch%d' % self.epochID)\n",
      "Storing in... /teamspace/studios/this_studio/mouse-sleep-analysis/sample_data/mcRBManalysisMay/analysis/epoch9999\n",
      "/teamspace/studios/this_studio/mouse-sleep-analysis/infer_states.py:58: DeprecationWarning: Conversion of an array with ndim > 0 to a scalar is deprecated, and will error in future. Ensure you extract a single element from your array before performing this operation. (Deprecated NumPy 1.25.)\n",
      "  image.save('./hcActivation/%i.png' % self.epochID)\n",
      "/teamspace/studios/this_studio/mouse-sleep-analysis/infer_states.py:62: DeprecationWarning: Conversion of an array with ndim > 0 to a scalar is deprecated, and will error in future. Ensure you extract a single element from your array before performing this operation. (Deprecated NumPy 1.25.)\n",
      "  resized_image.save('./hmActivation/%i.png' % self.epochID)\n",
      "/teamspace/studios/this_studio/mouse-sleep-analysis/infer_states.py:71: DeprecationWarning: Conversion of an array with ndim > 0 to a scalar is deprecated, and will error in future. Ensure you extract a single element from your array before performing this operation. (Deprecated NumPy 1.25.)\n",
      "  plt.savefig('./binaryActivation/%i.png' % self.epochID)\n",
      "Computing the unique binary latent states...\n",
      "The number of the unique latent activations is : 37\n",
      "Checking if there are hidden_units that are always off..\n",
      "The sum of the unique latent activations' columns is :  [37 37 37 37 37 37 37 37 37 37 37 20 17  5 29  7  9 20 29 13 29]\n"
     ]
    }
   ],
   "source": [
    "!python3 /teamspace/studios/this_studio/mouse-sleep-analysis/infer_states.py -f {BASE_DIR} -done \"True\" -m ${modelName}"
   ]
  },
  {
   "cell_type": "code",
   "execution_count": null,
   "id": "5dc5780e-8d12-40f4-a51e-e2253780ebaf",
   "metadata": {},
   "outputs": [],
   "source": []
  }
 ],
 "metadata": {
  "kernelspec": {
   "display_name": "Python 3 (ipykernel)",
   "language": "python",
   "name": "python3"
  },
  "language_info": {
   "codemirror_mode": {
    "name": "ipython",
    "version": 3
   },
   "file_extension": ".py",
   "mimetype": "text/x-python",
   "name": "python",
   "nbconvert_exporter": "python",
   "pygments_lexer": "ipython3",
   "version": "3.10.10"
  }
 },
 "nbformat": 4,
 "nbformat_minor": 5
}
