{
 "cells": [
  {
   "cell_type": "code",
   "execution_count": 1,
   "metadata": {},
   "outputs": [],
   "source": [
    "import os\n",
    "os.chdir('/teamspace/studios/this_studio/mouse-sleep-analysis/scripts')\n",
    "\n",
    "import argparse\n",
    "from testDataset import testDataset\n",
    "from configparser import ConfigParser\n",
    "import subprocess"
   ]
  },
  {
   "cell_type": "code",
   "execution_count": 2,
   "metadata": {},
   "outputs": [],
   "source": [
    "root_dir = '/teamspace/studios/this_studio/mouse-sleep-analysis/configuration_files'\n",
    "expFile = 'exp_details_test'\n",
    "modelFile = 'input_configuration'"
   ]
  },
  {
   "cell_type": "code",
   "execution_count": 3,
   "metadata": {},
   "outputs": [
    {
     "name": "stdout",
     "output_type": "stream",
     "text": [
      "('initial size: ', (5397, 10))\n",
      "Scaling...\n",
      "Initialization...\n",
      "args.f : /teamspace/studios/this_studio/mouse-sleep-analysis/sample_data/experiments/OS_Basic_RGS14_Control_W35_N40_R25_CBD_Rat3_2021-06-01_11-44-08_pt5/\n",
      "args.done : True\n",
      "args.md /teamspace/studios/this_studio/mouse-sleep-analysis/sample_data/experiments/TD_OS_Basic_RGS14_Control_W35_N40_R25_total_144000/\n",
      "args.input /teamspace/studios/this_studio/mouse-sleep-analysis/sample_data/input/\n",
      "args.m : ws_fac11_cov11_mean10\n",
      "args.s : CBD_Rat3_2021-06-01_11-44-08_pt5_manual_scoring.mat\n",
      "finalModel: ws_fac11_cov11_mean10\n",
      "Loading data...\n",
      "Analysing experiment :  /teamspace/studios/this_studio/mouse-sleep-analysis/sample_data/experiments/OS_Basic_RGS14_Control_W35_N40_R25_CBD_Rat3_2021-06-01_11-44-08_pt5\n",
      "Computing latent states...\n",
      "/teamspace/studios/this_studio/mouse-sleep-analysis/sample_data/experiments/TD_OS_Basic_RGS14_Control_W35_N40_R25_total_144000/ws_fac11_cov11_mean10\n",
      "logisticArg_c min :  2.5544777\n",
      "logisticArg_c max :  5.0471344\n",
      "logisticArg_c mean :  3.7112937\n",
      "True\n",
      "logisticArg_m min :  -60.16433\n",
      "logisticArg_m max :  63.696896\n",
      "logisticArg_m mean :  0.03282987\n",
      "True\n",
      "Storing in... /teamspace/studios/this_studio/mouse-sleep-analysis/sample_data/experiments/OS_Basic_RGS14_Control_W35_N40_R25_CBD_Rat3_2021-06-01_11-44-08_pt5/analysis/epoch9999\n"
     ]
    },
    {
     "name": "stderr",
     "output_type": "stream",
     "text": [
      "/teamspace/studios/this_studio/mouse-sleep-analysis/scripts/infer_states.py:47: DeprecationWarning: Conversion of an array with ndim > 0 to a scalar is deprecated, and will error in future. Ensure you extract a single element from your array before performing this operation. (Deprecated NumPy 1.25.)\n",
      "  if not os.path.isdir('epoch%d' % self.epochID):\n",
      "/teamspace/studios/this_studio/mouse-sleep-analysis/scripts/infer_states.py:48: DeprecationWarning: Conversion of an array with ndim > 0 to a scalar is deprecated, and will error in future. Ensure you extract a single element from your array before performing this operation. (Deprecated NumPy 1.25.)\n",
      "  os.makedirs('epoch%d' % self.epochID)\n",
      "/teamspace/studios/this_studio/mouse-sleep-analysis/scripts/infer_states.py:50: DeprecationWarning: Conversion of an array with ndim > 0 to a scalar is deprecated, and will error in future. Ensure you extract a single element from your array before performing this operation. (Deprecated NumPy 1.25.)\n",
      "  os.chdir('epoch%d' % self.epochID)\n",
      "/teamspace/studios/this_studio/mouse-sleep-analysis/scripts/infer_states.py:62: DeprecationWarning: Conversion of an array with ndim > 0 to a scalar is deprecated, and will error in future. Ensure you extract a single element from your array before performing this operation. (Deprecated NumPy 1.25.)\n",
      "  image.save('./hcActivation/%i.png' % self.epochID)\n",
      "/teamspace/studios/this_studio/mouse-sleep-analysis/scripts/infer_states.py:66: DeprecationWarning: Conversion of an array with ndim > 0 to a scalar is deprecated, and will error in future. Ensure you extract a single element from your array before performing this operation. (Deprecated NumPy 1.25.)\n",
      "  resized_image.save('./hmActivation/%i.png' % self.epochID)\n",
      "/teamspace/studios/this_studio/mouse-sleep-analysis/scripts/infer_states.py:74: DeprecationWarning: Conversion of an array with ndim > 0 to a scalar is deprecated, and will error in future. Ensure you extract a single element from your array before performing this operation. (Deprecated NumPy 1.25.)\n",
      "  plt.savefig('./binaryActivation/%i.png' % self.epochID)\n"
     ]
    },
    {
     "name": "stdout",
     "output_type": "stream",
     "text": [
      "Computing the unique binary latent states...\n",
      "The number of the unique latent activations is : 52\n",
      "np.shape(uniqueAct) :  (52, 21)\n",
      "np.unique(uniqueAct) : [0 1]\n",
      "uniqueAct [[1 1 1 ... 0 0 0]\n",
      " [1 1 1 ... 0 0 1]\n",
      " [1 1 1 ... 0 0 0]\n",
      " ...\n",
      " [1 1 1 ... 1 0 1]\n",
      " [1 1 1 ... 1 0 1]\n",
      " [1 1 1 ... 1 1 1]]\n",
      "Checking if there are hidden_units that are always off..\n",
      "The sum of the unique latent activations' columns is :  [52 52 52 52 52 52 52 52 52 52 52 10 41 36 38  7 14 31 25  9 40]\n"
     ]
    },
    {
     "data": {
      "text/plain": [
       "CompletedProcess(args='python3 /teamspace/studios/this_studio/mouse-sleep-analysis/scripts/infer_states.py -f /teamspace/studios/this_studio/mouse-sleep-analysis/sample_data/experiments/OS_Basic_RGS14_Control_W35_N40_R25_CBD_Rat3_2021-06-01_11-44-08_pt5/ -done True -input /teamspace/studios/this_studio/mouse-sleep-analysis/sample_data/input/ -md /teamspace/studios/this_studio/mouse-sleep-analysis/sample_data/experiments/TD_OS_Basic_RGS14_Control_W35_N40_R25_total_144000/ -m ws_fac11_cov11_mean10 -s CBD_Rat3_2021-06-01_11-44-08_pt5_manual_scoring.mat', returncode=0)"
      ]
     },
     "execution_count": 3,
     "metadata": {},
     "output_type": "execute_result"
    }
   ],
   "source": [
    "new_dataset = testDataset(root_dir, expFile)\n",
    "\n",
    "new_dataset.loadData()\n",
    "\n",
    "new_dataset.prepareFile()\n",
    "\n",
    "base_dir = f\"/teamspace/studios/this_studio/mouse-sleep-analysis/sample_data/experiments/{new_dataset.expName}/\"\n",
    "model_dir = f\"/teamspace/studios/this_studio/mouse-sleep-analysis/sample_data/experiments/{new_dataset.modelDirName}/\"\n",
    "data_dir = new_dataset.dataDir\n",
    "model_name = new_dataset.modelName\n",
    "states_file = new_dataset.statesFile\n",
    "\n",
    "command = f\"python3 /teamspace/studios/this_studio/mouse-sleep-analysis/scripts/infer_states.py -f {base_dir} -done True -input {data_dir} -md {model_dir} -m {model_name} -s {states_file}\"\n",
    "subprocess.run(command, shell=True)"
   ]
  }
 ],
 "metadata": {
  "kernelspec": {
   "display_name": "cloudspace",
   "language": "python",
   "name": "python3"
  },
  "language_info": {
   "codemirror_mode": {
    "name": "ipython",
    "version": 3
   },
   "file_extension": ".py",
   "mimetype": "text/x-python",
   "name": "python",
   "nbconvert_exporter": "python",
   "pygments_lexer": "ipython3",
   "version": "3.10.10"
  }
 },
 "nbformat": 4,
 "nbformat_minor": 2
}
