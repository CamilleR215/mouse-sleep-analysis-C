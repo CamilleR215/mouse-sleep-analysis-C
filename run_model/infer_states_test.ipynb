{
 "cells": [
  {
   "cell_type": "code",
   "execution_count": 18,
   "metadata": {},
   "outputs": [],
   "source": [
    "import os\n",
    "os.chdir('/teamspace/studios/this_studio/mouse-sleep-analysis/scripts')\n",
    "\n",
    "import argparse\n",
    "from testDataset import testDataset\n",
    "from configparser import ConfigParser\n",
    "import subprocess"
   ]
  },
  {
   "cell_type": "code",
   "execution_count": 19,
   "metadata": {},
   "outputs": [],
   "source": [
    "root_dir = '/teamspace/studios/this_studio/mouse-sleep-analysis/configuration_files'\n",
    "expFile = 'exp_details_test'\n",
    "modelFile = 'input_configuration'"
   ]
  },
  {
   "cell_type": "code",
   "execution_count": 21,
   "metadata": {},
   "outputs": [
    {
     "name": "stdout",
     "output_type": "stream",
     "text": [
      "('initial size: ', (5135, 10))\n",
      "Scaling...\n"
     ]
    },
    {
     "name": "stdout",
     "output_type": "stream",
     "text": [
      "Initialization...\n",
      "args.f : /teamspace/studios/this_studio/mouse-sleep-analysis/sample_data/experiments/test1/\n",
      "args.done : True\n",
      "args.md /teamspace/studios/this_studio/mouse-sleep-analysis/sample_data/experiments/TD1_OS_RGS_untreated_W35_N40_R25_total_520000/\n",
      "args.input /teamspace/studios/this_studio/mouse-sleep-analysis/sample_data/input/\n",
      "args.m : ws_fac11_cov11_mean10\n",
      "args.s : states.mat\n",
      "finalModel: ws_fac11_cov11_mean10\n",
      "Loading data...\n",
      "Analysing experiment :  /teamspace/studios/this_studio/mouse-sleep-analysis/sample_data/experiments/test1\n",
      "Computing latent states...\n",
      "/teamspace/studios/this_studio/mouse-sleep-analysis/sample_data/experiments/TD1_OS_RGS_untreated_W35_N40_R25_total_520000/ws_fac11_cov11_mean10\n",
      "logisticArg_c min :  1.9707234\n",
      "logisticArg_c max :  8.742189\n",
      "logisticArg_c mean :  4.3571935\n",
      "True\n",
      "logisticArg_m min :  -47.443226\n",
      "logisticArg_m max :  57.33999\n",
      "logisticArg_m mean :  0.74308896\n",
      "True\n",
      "Storing in... /teamspace/studios/this_studio/mouse-sleep-analysis/sample_data/experiments/test1/analysis/epoch9999\n"
     ]
    },
    {
     "name": "stderr",
     "output_type": "stream",
     "text": [
      "/teamspace/studios/this_studio/mouse-sleep-analysis/scripts/infer_states.py:47: DeprecationWarning: Conversion of an array with ndim > 0 to a scalar is deprecated, and will error in future. Ensure you extract a single element from your array before performing this operation. (Deprecated NumPy 1.25.)\n",
      "  if not os.path.isdir('epoch%d' % self.epochID):\n",
      "/teamspace/studios/this_studio/mouse-sleep-analysis/scripts/infer_states.py:48: DeprecationWarning: Conversion of an array with ndim > 0 to a scalar is deprecated, and will error in future. Ensure you extract a single element from your array before performing this operation. (Deprecated NumPy 1.25.)\n",
      "  os.makedirs('epoch%d' % self.epochID)\n",
      "/teamspace/studios/this_studio/mouse-sleep-analysis/scripts/infer_states.py:50: DeprecationWarning: Conversion of an array with ndim > 0 to a scalar is deprecated, and will error in future. Ensure you extract a single element from your array before performing this operation. (Deprecated NumPy 1.25.)\n",
      "  os.chdir('epoch%d' % self.epochID)\n",
      "/teamspace/studios/this_studio/mouse-sleep-analysis/scripts/infer_states.py:62: DeprecationWarning: Conversion of an array with ndim > 0 to a scalar is deprecated, and will error in future. Ensure you extract a single element from your array before performing this operation. (Deprecated NumPy 1.25.)\n",
      "  image.save('./hcActivation/%i.png' % self.epochID)\n",
      "/teamspace/studios/this_studio/mouse-sleep-analysis/scripts/infer_states.py:66: DeprecationWarning: Conversion of an array with ndim > 0 to a scalar is deprecated, and will error in future. Ensure you extract a single element from your array before performing this operation. (Deprecated NumPy 1.25.)\n",
      "  resized_image.save('./hmActivation/%i.png' % self.epochID)\n",
      "/teamspace/studios/this_studio/mouse-sleep-analysis/scripts/infer_states.py:74: DeprecationWarning: Conversion of an array with ndim > 0 to a scalar is deprecated, and will error in future. Ensure you extract a single element from your array before performing this operation. (Deprecated NumPy 1.25.)\n",
      "  plt.savefig('./binaryActivation/%i.png' % self.epochID)\n"
     ]
    },
    {
     "name": "stdout",
     "output_type": "stream",
     "text": [
      "Computing the unique binary latent states...\n",
      "The number of the unique latent activations is : 53\n",
      "np.shape(uniqueAct) :  (53, 21)\n",
      "np.unique(uniqueAct) : [0 1]\n",
      "uniqueAct [[1 1 1 ... 1 0 0]\n",
      " [1 1 1 ... 1 0 0]\n",
      " [1 1 1 ... 1 0 0]\n",
      " ...\n",
      " [1 1 1 ... 0 0 1]\n",
      " [1 1 1 ... 0 0 0]\n",
      " [1 1 1 ... 0 0 1]]\n",
      "Checking if there are hidden_units that are always off..\n",
      "The sum of the unique latent activations' columns is :  [53 53 53 53 53 53 53 53 53 53 53 37 36 18 47 44 21 32 19  4 17]\n"
     ]
    },
    {
     "data": {
      "text/plain": [
       "CompletedProcess(args='python3 /teamspace/studios/this_studio/mouse-sleep-analysis/scripts/infer_states.py -f /teamspace/studios/this_studio/mouse-sleep-analysis/sample_data/experiments/test1/ -done True -input /teamspace/studios/this_studio/mouse-sleep-analysis/sample_data/input/ -md /teamspace/studios/this_studio/mouse-sleep-analysis/sample_data/experiments/TD1_OS_RGS_untreated_W35_N40_R25_total_520000/ -m ws_fac11_cov11_mean10 -s states.mat', returncode=0)"
      ]
     },
     "execution_count": 21,
     "metadata": {},
     "output_type": "execute_result"
    }
   ],
   "source": [
    "new_dataset = testDataset(root_dir, expFile)\n",
    "\n",
    "new_dataset.loadData()\n",
    "\n",
    "new_dataset.prepareFile()\n",
    "\n",
    "base_dir = f\"/teamspace/studios/this_studio/mouse-sleep-analysis/sample_data/experiments/{new_dataset.expName}/\"\n",
    "model_dir = f\"/teamspace/studios/this_studio/mouse-sleep-analysis/sample_data/experiments/{new_dataset.modelDirName}/\"\n",
    "data_dir = new_dataset.dataDir\n",
    "model_name = new_dataset.modelName\n",
    "states_file = new_dataset.statesFile\n",
    "\n",
    "command = f\"python3 /teamspace/studios/this_studio/mouse-sleep-analysis/scripts/infer_states.py -f {base_dir} -done True -input {data_dir} -md {model_dir} -m {model_name} -s {states_file}\"\n",
    "subprocess.run(command, shell=True)"
   ]
  }
 ],
 "metadata": {
  "kernelspec": {
   "display_name": "cloudspace",
   "language": "python",
   "name": "python3"
  },
  "language_info": {
   "codemirror_mode": {
    "name": "ipython",
    "version": 3
   },
   "file_extension": ".py",
   "mimetype": "text/x-python",
   "name": "python",
   "nbconvert_exporter": "python",
   "pygments_lexer": "ipython3",
   "version": "3.10.10"
  }
 },
 "nbformat": 4,
 "nbformat_minor": 2
}
