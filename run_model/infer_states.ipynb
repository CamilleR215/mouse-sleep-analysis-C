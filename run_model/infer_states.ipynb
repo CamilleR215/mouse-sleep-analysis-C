{
 "cells": [
  {
   "cell_type": "code",
   "execution_count": 1,
   "id": "7136a1c3",
   "metadata": {},
   "outputs": [],
   "source": [
    "from configparser import ConfigParser\n",
    "import subprocess"
   ]
  },
  {
   "cell_type": "code",
   "execution_count": 2,
   "id": "69f7b367",
   "metadata": {},
   "outputs": [],
   "source": [
    "root_dir = '/teamspace/studios/this_studio/mouse-sleep-analysis/configuration_files/'\n",
    "expFile = 'exp_details'\n",
    "inputConfiguration = 'input_configuration'"
   ]
  },
  {
   "cell_type": "code",
   "execution_count": 3,
   "id": "049cb3e7",
   "metadata": {},
   "outputs": [],
   "source": [
    "config = ConfigParser()\n",
    "config.read(f'{root_dir}{expFile}')\n",
    "\n",
    "exp_ID = config.get('EXP_DETAILS', 'expID')\n",
    "exps_dir = config.get('EXP_DETAILS', 'expsDir')\n",
    "dset_dir = config.get('EXP_DETAILS', 'dsetDir')\n",
    "states_file = config.get('EXP_DETAILS', 'statesFile')\n",
    "\n",
    "config.read(f'{root_dir}{inputConfiguration}')\n",
    "num_fac = config.get('MODEL_PARAMETER_SETTING', 'num_fac')\n",
    "num_hid_cov = config.get('MODEL_PARAMETER_SETTING', 'num_hid_cov')\n",
    "num_hid_mean = config.get('MODEL_PARAMETER_SETTING', 'num_hid_mean')\n",
    "\n",
    "model_name = f'ws_fac{num_fac}_cov{num_hid_cov}_mean{num_hid_mean}'"
   ]
  },
  {
   "cell_type": "code",
   "execution_count": 4,
   "id": "5b2e30e2-1064-43e3-9e25-7ae3615c990b",
   "metadata": {
    "tags": []
   },
   "outputs": [],
   "source": [
    "base_dir = f\"{exps_dir}{exp_ID}/\""
   ]
  },
  {
   "cell_type": "code",
   "execution_count": 5,
   "id": "93214221-9e89-4e27-814a-83e4f7b1eff7",
   "metadata": {
    "tags": []
   },
   "outputs": [
    {
     "name": "stdout",
     "output_type": "stream",
     "text": [
      "Initialization...\n",
      "args.f : /teamspace/studios/this_studio/mouse-sleep-analysis/sample_data/experiments/TD_OS_Basic_RGS14_Control_W35_N40_R25_total_144000/\n",
      "args.done : True\n",
      "args.md /teamspace/studios/this_studio/mouse-sleep-analysis/sample_data/experiments/TD_OS_Basic_RGS14_Control_W35_N40_R25_total_144000/\n",
      "args.input /teamspace/studios/this_studio/mouse-sleep-analysis/sample_data/input/\n",
      "args.m : ws_fac11_cov11_mean10\n",
      "args.s : TD_OS_Basic_RGS14_Control_W35_N40_R25_total_144000_manual_scoring.mat\n",
      "finalModel: ws_fac11_cov11_mean10\n",
      "Loading data...\n",
      "Analysing experiment :  /teamspace/studios/this_studio/mouse-sleep-analysis/sample_data/experiments/TD_OS_Basic_RGS14_Control_W35_N40_R25_total_144000\n",
      "Computing latent states...\n",
      "/teamspace/studios/this_studio/mouse-sleep-analysis/sample_data/experiments/TD_OS_Basic_RGS14_Control_W35_N40_R25_total_144000/ws_fac11_cov11_mean10\n",
      "logisticArg_c min :  2.7374778\n",
      "logisticArg_c max :  5.0473332\n",
      "logisticArg_c mean :  3.7293594\n",
      "True\n",
      "logisticArg_m min :  -67.28523\n",
      "logisticArg_m max :  76.02613\n",
      "logisticArg_m mean :  1.7380652\n",
      "True\n",
      "Storing in... /teamspace/studios/this_studio/mouse-sleep-analysis/sample_data/experiments/TD_OS_Basic_RGS14_Control_W35_N40_R25_total_144000/analysis/epoch9999\n"
     ]
    },
    {
     "name": "stderr",
     "output_type": "stream",
     "text": [
      "/teamspace/studios/this_studio/mouse-sleep-analysis/scripts/infer_states.py:47: DeprecationWarning: Conversion of an array with ndim > 0 to a scalar is deprecated, and will error in future. Ensure you extract a single element from your array before performing this operation. (Deprecated NumPy 1.25.)\n",
      "  if not os.path.isdir('epoch%d' % self.epochID):\n",
      "/teamspace/studios/this_studio/mouse-sleep-analysis/scripts/infer_states.py:48: DeprecationWarning: Conversion of an array with ndim > 0 to a scalar is deprecated, and will error in future. Ensure you extract a single element from your array before performing this operation. (Deprecated NumPy 1.25.)\n",
      "  os.makedirs('epoch%d' % self.epochID)\n",
      "/teamspace/studios/this_studio/mouse-sleep-analysis/scripts/infer_states.py:50: DeprecationWarning: Conversion of an array with ndim > 0 to a scalar is deprecated, and will error in future. Ensure you extract a single element from your array before performing this operation. (Deprecated NumPy 1.25.)\n",
      "  os.chdir('epoch%d' % self.epochID)\n",
      "/teamspace/studios/this_studio/mouse-sleep-analysis/scripts/infer_states.py:62: DeprecationWarning: Conversion of an array with ndim > 0 to a scalar is deprecated, and will error in future. Ensure you extract a single element from your array before performing this operation. (Deprecated NumPy 1.25.)\n",
      "  image.save('./hcActivation/%i.png' % self.epochID)\n",
      "/teamspace/studios/this_studio/mouse-sleep-analysis/scripts/infer_states.py:66: DeprecationWarning: Conversion of an array with ndim > 0 to a scalar is deprecated, and will error in future. Ensure you extract a single element from your array before performing this operation. (Deprecated NumPy 1.25.)\n",
      "  resized_image.save('./hmActivation/%i.png' % self.epochID)\n",
      "/teamspace/studios/this_studio/mouse-sleep-analysis/scripts/infer_states.py:74: DeprecationWarning: Conversion of an array with ndim > 0 to a scalar is deprecated, and will error in future. Ensure you extract a single element from your array before performing this operation. (Deprecated NumPy 1.25.)\n",
      "  plt.savefig('./binaryActivation/%i.png' % self.epochID)\n"
     ]
    },
    {
     "name": "stdout",
     "output_type": "stream",
     "text": [
      "Computing the unique binary latent states...\n",
      "The number of the unique latent activations is : 138\n",
      "np.shape(uniqueAct) :  (138, 21)\n",
      "np.unique(uniqueAct) : [0 1]\n",
      "uniqueAct [[1 1 1 ... 0 0 0]\n",
      " [1 1 1 ... 0 0 0]\n",
      " [1 1 1 ... 0 0 1]\n",
      " ...\n",
      " [1 1 1 ... 1 1 1]\n",
      " [1 1 1 ... 1 1 0]\n",
      " [1 1 1 ... 1 1 1]]\n",
      "Checking if there are hidden_units that are always off..\n",
      "The sum of the unique latent activations' columns is :  [138 138 138 138 138 138 138 138 138 138 138  40 117 105  88  30  46  60\n",
      "  75  36  68]\n"
     ]
    },
    {
     "data": {
      "text/plain": [
       "CompletedProcess(args='python3 /teamspace/studios/this_studio/mouse-sleep-analysis/scripts/infer_states.py -f /teamspace/studios/this_studio/mouse-sleep-analysis/sample_data/experiments/TD_OS_Basic_RGS14_Control_W35_N40_R25_total_144000/ -done True -input /teamspace/studios/this_studio/mouse-sleep-analysis/sample_data/input/ -md /teamspace/studios/this_studio/mouse-sleep-analysis/sample_data/experiments/TD_OS_Basic_RGS14_Control_W35_N40_R25_total_144000/ -m ws_fac11_cov11_mean10 -s TD_OS_Basic_RGS14_Control_W35_N40_R25_total_144000_manual_scoring.mat', returncode=0)"
      ]
     },
     "execution_count": 5,
     "metadata": {},
     "output_type": "execute_result"
    }
   ],
   "source": [
    "command = f\"python3 /teamspace/studios/this_studio/mouse-sleep-analysis/scripts/infer_states.py -f {base_dir} -done True -input {dset_dir} -md {base_dir} -m {model_name} -s {states_file}\"\n",
    "subprocess.run(command, shell=True)"
   ]
  }
 ],
 "metadata": {
  "kernelspec": {
   "display_name": "Python 3 (ipykernel)",
   "language": "python",
   "name": "python3"
  },
  "language_info": {
   "codemirror_mode": {
    "name": "ipython",
    "version": 3
   },
   "file_extension": ".py",
   "mimetype": "text/x-python",
   "name": "python",
   "nbconvert_exporter": "python",
   "pygments_lexer": "ipython3",
   "version": "3.10.10"
  }
 },
 "nbformat": 4,
 "nbformat_minor": 5
}
