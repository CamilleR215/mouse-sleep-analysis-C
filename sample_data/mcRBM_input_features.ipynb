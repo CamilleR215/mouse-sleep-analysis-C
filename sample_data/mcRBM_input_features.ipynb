{
 "cells": [
  {
   "cell_type": "code",
   "execution_count": 1,
   "metadata": {},
   "outputs": [],
   "source": [
    "import pandas as pd\n",
    "import numpy as np\n",
    "from scipy.io import loadmat"
   ]
  },
  {
   "cell_type": "code",
   "execution_count": 2,
   "metadata": {},
   "outputs": [],
   "source": [
    "data_path = '/teamspace/studios/this_studio/mouse-sleep-analysis/sample_data/input/'\n",
    "feature_npy_file_name = 'Features.npy'\n",
    "feature_npz_file_name = 'Features.npz'\n",
    "states_file_name = 'states.mat'\n",
    "timesteps = 5135"
   ]
  },
  {
   "cell_type": "markdown",
   "metadata": {},
   "source": [
    "## Bands\n",
    "- Nx10 data array, where N is the number of epochs, and columns refer to Delta PFC, Theta HPC, Delta/Theta and EMG"
   ]
  },
  {
   "cell_type": "code",
   "execution_count": 3,
   "metadata": {},
   "outputs": [],
   "source": [
    "bands = np.load(data_path + feature_npy_file_name)"
   ]
  },
  {
   "cell_type": "code",
   "execution_count": 4,
   "metadata": {},
   "outputs": [
    {
     "data": {
      "text/plain": [
       "(5135, 10)"
      ]
     },
     "execution_count": 4,
     "metadata": {},
     "output_type": "execute_result"
    }
   ],
   "source": [
    "bands.shape"
   ]
  },
  {
   "cell_type": "markdown",
   "metadata": {},
   "source": [
    "## EpochsLinked\n",
    "- Nx4 data array, where N is the number of epochs, and columns are described as follows:\n",
    "\n",
    "\t- column 1: epoch ID\n",
    "\t- column 2: epoch index (currently not used)\n",
    "\t- column 3: ground truth sleep stage ID, where\n",
    "\t\t\t\t- 0 is associated with artefacts,\n",
    "\t\t\t\t- 1 is associated with wakefulness,\n",
    "\t\t\t\t- 3 is associated with NREM sleep,\n",
    "\t\t\t\t- 4 is associated with TS sleep,\n",
    "\t\t\t\t- 5 is associated with REM sleep\n",
    "\t- column 4: the subject ID (used in multi-subject analysis only)"
   ]
  },
  {
   "cell_type": "code",
   "execution_count": 5,
   "metadata": {},
   "outputs": [],
   "source": [
    "epoch_ids = np.arange(timesteps, dtype=int)\n",
    "epoch_index = np.arange(timesteps, dtype=int)\n",
    "states = loadmat(data_path + states_file_name)\n",
    "\n",
    "states['downsampledStates'] = states.pop('states')\n",
    "\n",
    "ground_truth_sleep_stage_id = states['downsampledStates'].astype(int)\n",
    "ground_truth_sleep_stage_id = ground_truth_sleep_stage_id.flatten()[:timesteps]\n",
    "subject_id = np.ones(timesteps, dtype=int)\n",
    "epochs_linked = np.column_stack([epoch_ids, \n",
    "                                 epoch_index, \n",
    "                                 ground_truth_sleep_stage_id,\n",
    "                                 subject_id\n",
    "                                ])"
   ]
  },
  {
   "cell_type": "markdown",
   "metadata": {},
   "source": [
    "## EpochTime\n",
    "- Nx3 data array, where N is the number of epochs, and columns are described as follows:\n",
    "\n",
    "\t- column 1: epoch ID\n",
    "\t- column 2: recording mode (i.e. baseline or recovery), where\n",
    "    \n",
    "\t\t\t   - 1 is associated with baseline,\n",
    "\t\t\t   - 2 is associated with recovery (after sleep deprivation)\n",
    "\t- column 3: the epoch date-time"
   ]
  },
  {
   "cell_type": "code",
   "execution_count": 6,
   "metadata": {},
   "outputs": [],
   "source": [
    "recording_mode = np.ones(timesteps).astype('<f8')\n",
    "start_value = 41137.2918055555\n",
    "step_size = 8.234392028162487e-05\n",
    "time = np.arange(start_value, start_value + step_size * timesteps, step_size).astype('<f8')\n",
    "time = time[:timesteps]\n",
    "epoch_time = np.column_stack([epoch_ids.astype('<f8'), recording_mode, time])"
   ]
  },
  {
   "cell_type": "markdown",
   "metadata": {},
   "source": [
    "## Save"
   ]
  },
  {
   "cell_type": "code",
   "execution_count": 7,
   "metadata": {},
   "outputs": [],
   "source": [
    "np.savez(data_path + feature_npz_file_name, d=bands, epochsLinked=epochs_linked, epochTime=epoch_time)"
   ]
  }
 ],
 "metadata": {
  "kernelspec": {
   "display_name": "cloudspace",
   "language": "python",
   "name": "python3"
  },
  "language_info": {
   "codemirror_mode": {
    "name": "ipython",
    "version": 3
   },
   "file_extension": ".py",
   "mimetype": "text/x-python",
   "name": "python",
   "nbconvert_exporter": "python",
   "pygments_lexer": "ipython3",
   "version": "3.10.10"
  }
 },
 "nbformat": 4,
 "nbformat_minor": 2
}
