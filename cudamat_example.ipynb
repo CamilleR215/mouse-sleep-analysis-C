{
 "cells": [
  {
   "cell_type": "code",
   "execution_count": 1,
   "id": "4d46bd15-a85c-4a9d-a9d0-d7b99acd24a6",
   "metadata": {
    "tags": []
   },
   "outputs": [
    {
     "name": "stdout",
     "output_type": "stream",
     "text": [
      "[[2038.0146 2047.1301 2074.4653 2177.4614 1972.8298 1875.5354 2073.5303\n",
      "  2014.439  2061.383  2009.5784 2056.206  2063.9229 2004.5637 2065.4736\n",
      "  1917.6536 2052.2288 2135.6274 1998.9899 1978.4977 2054.5615 2102.9863\n",
      "  2054.0347 2105.4407 2067.8696 2054.2017 2082.5708 2245.257  2077.8418\n",
      "  1939.563  2025.1343 2065.0151 2074.8486]]\n"
     ]
    }
   ],
   "source": [
    "import numpy as np\n",
    "import cudamat as cm\n",
    "\n",
    "cm.cublas_init()\n",
    "\n",
    "# create two random matrices and copy them to the GPU\n",
    "a = cm.CUDAMatrix(np.random.rand(32, 256))\n",
    "b = cm.CUDAMatrix(np.random.rand(256, 32))\n",
    "\n",
    "# perform calculations on the GPU\n",
    "c = cm.dot(a, b)\n",
    "d = c.sum(axis = 0)\n",
    "\n",
    "# copy d back to the host (CPU) and print\n",
    "print(d.asarray())"
   ]
  },
  {
   "cell_type": "code",
   "execution_count": null,
   "id": "2baeadc4-8216-415b-9e01-a97ffba7737a",
   "metadata": {},
   "outputs": [],
   "source": []
  }
 ],
 "metadata": {
  "kernelspec": {
   "display_name": "Python 3 (ipykernel)",
   "language": "python",
   "name": "python3"
  },
  "language_info": {
   "codemirror_mode": {
    "name": "ipython",
    "version": 3
   },
   "file_extension": ".py",
   "mimetype": "text/x-python",
   "name": "python",
   "nbconvert_exporter": "python",
   "pygments_lexer": "ipython3",
   "version": "3.10.10"
  }
 },
 "nbformat": 4,
 "nbformat_minor": 5
}
